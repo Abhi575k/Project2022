{
 "cells": [
  {
   "cell_type": "markdown",
   "metadata": {},
   "source": [
    "## Assignment-1\n",
    "#### **Matrix addition, multiplication and inverse of matrix using numpy and without numpy**"
   ]
  },
  {
   "cell_type": "code",
   "execution_count": 12,
   "metadata": {},
   "outputs": [
    {
     "ename": "ValueError",
     "evalue": "invalid literal for int() with base 10: ''",
     "output_type": "error",
     "traceback": [
      "\u001b[1;31m---------------------------------------------------------------------------\u001b[0m",
      "\u001b[1;31mValueError\u001b[0m                                Traceback (most recent call last)",
      "\u001b[1;32mc:\\Users\\NIRMAL\\OneDrive\\Documents\\GitHub\\Project2022\\Applications_Of_Reinforcement_Learning\\Assignment-1\\210735_Nirmal\\Assignment-1.ipynb Cell 2'\u001b[0m in \u001b[0;36m<cell line: 3>\u001b[1;34m()\u001b[0m\n\u001b[0;32m      <a href='vscode-notebook-cell:/c%3A/Users/NIRMAL/OneDrive/Documents/GitHub/Project2022/Applications_Of_Reinforcement_Learning/Assignment-1/210735_Nirmal/Assignment-1.ipynb#ch0000001?line=0'>1</a>\u001b[0m \u001b[39mimport\u001b[39;00m \u001b[39mtime\u001b[39;00m \u001b[39mas\u001b[39;00m \u001b[39mt\u001b[39;00m\n\u001b[0;32m      <a href='vscode-notebook-cell:/c%3A/Users/NIRMAL/OneDrive/Documents/GitHub/Project2022/Applications_Of_Reinforcement_Learning/Assignment-1/210735_Nirmal/Assignment-1.ipynb#ch0000001?line=1'>2</a>\u001b[0m \u001b[39mimport\u001b[39;00m \u001b[39mnumpy\u001b[39;00m \u001b[39mas\u001b[39;00m \u001b[39mnp\u001b[39;00m\n\u001b[1;32m----> <a href='vscode-notebook-cell:/c%3A/Users/NIRMAL/OneDrive/Documents/GitHub/Project2022/Applications_Of_Reinforcement_Learning/Assignment-1/210735_Nirmal/Assignment-1.ipynb#ch0000001?line=2'>3</a>\u001b[0m r1 \u001b[39m=\u001b[39m \u001b[39mint\u001b[39;49m(\u001b[39minput\u001b[39;49m(\u001b[39m\"\u001b[39;49m\u001b[39mRows of m1\u001b[39;49m\u001b[39m\"\u001b[39;49m))\n\u001b[0;32m      <a href='vscode-notebook-cell:/c%3A/Users/NIRMAL/OneDrive/Documents/GitHub/Project2022/Applications_Of_Reinforcement_Learning/Assignment-1/210735_Nirmal/Assignment-1.ipynb#ch0000001?line=3'>4</a>\u001b[0m c1 \u001b[39m=\u001b[39m \u001b[39mint\u001b[39m(\u001b[39minput\u001b[39m(\u001b[39m\"\u001b[39m\u001b[39mColumns of m1\u001b[39m\u001b[39m\"\u001b[39m))\n\u001b[0;32m      <a href='vscode-notebook-cell:/c%3A/Users/NIRMAL/OneDrive/Documents/GitHub/Project2022/Applications_Of_Reinforcement_Learning/Assignment-1/210735_Nirmal/Assignment-1.ipynb#ch0000001?line=4'>5</a>\u001b[0m r2 \u001b[39m=\u001b[39m \u001b[39mint\u001b[39m(\u001b[39minput\u001b[39m(\u001b[39m\"\u001b[39m\u001b[39mRows of m2\u001b[39m\u001b[39m\"\u001b[39m))\n",
      "\u001b[1;31mValueError\u001b[0m: invalid literal for int() with base 10: ''"
     ]
    }
   ],
   "source": [
    "import time as t\n",
    "import numpy as np\n",
    "r1 = int(input(\"Rows of m1\"))\n",
    "c1 = int(input(\"Columns of m1\"))\n",
    "r2 = int(input(\"Rows of m2\"))\n",
    "c2 = int(input(\"Columns of m2\"))\n",
    "m1 = np.random.radint(15,(r1,c1))\n",
    "m2 = np.random.radint(15,(r2,c2))\n",
    "m3 = np.arry(m1)\n",
    "m4 = np.arry(m2)"
   ]
  },
  {
   "cell_type": "markdown",
   "metadata": {},
   "source": [
    "### Addition"
   ]
  },
  {
   "cell_type": "code",
   "execution_count": null,
   "metadata": {},
   "outputs": [
    {
     "ename": "SyntaxError",
     "evalue": "incomplete input (3455227908.py, line 1)",
     "output_type": "error",
     "traceback": [
      "\u001b[1;36m  Input \u001b[1;32mIn [1]\u001b[1;36m\u001b[0m\n\u001b[1;33m    if (r1==r2) and (c1==c2):\u001b[0m\n\u001b[1;37m                             ^\u001b[0m\n\u001b[1;31mSyntaxError\u001b[0m\u001b[1;31m:\u001b[0m incomplete input\n"
     ]
    }
   ],
   "source": [
    "start1 = t.time()\n",
    "if (r1==r2) and (c1==c2):\n",
    "    am = np.arry((r1,c1))\n",
    "    for i in range(r1):\n",
    "        for j in range(c1):\n",
    "            am[i][j]=m1[i][j]+m2[i][j]\n",
    "    print(\"Addition without numpy\\n\",am)\n",
    "else:\n",
    "    print(\"You can't add given two matrix\")\n",
    "end1 = t.time()\n",
    "\n",
    "start2 = t.time()\n",
    "if (r1==r2) and (c1==c2):\n",
    "    am = np.arry((r1,c1))\n",
    "    for i in range(r1):\n",
    "        for j in range(c1):\n",
    "            am[i][j]=m3[i][j]+m4[i][j]\n",
    "    print(\"Addition with numpy\\n\",am)\n",
    "else:\n",
    "    print(\"You can't add given two matrix\")\n",
    "end2 = t.time()"
   ]
  },
  {
   "cell_type": "markdown",
   "metadata": {},
   "source": [
    "### Multiplication"
   ]
  },
  {
   "cell_type": "code",
   "execution_count": null,
   "metadata": {},
   "outputs": [],
   "source": [
    "start3 = t.time()\n",
    "if c1==r1:\n",
    "    mm = np.arry((r1,c2))\n",
    "    for i in range(r1):\n",
    "        for j in range(c2):\n",
    "            for k in range(r2):\n",
    "                mm[i][j] += m1[i][k]*m2[k][j]\n",
    "    print(\"Multiplication without numpy\",mm)\n",
    "else:\n",
    "    print(\"You can't multiply given two matrix\")\n",
    "end3 = t.time()\n",
    "\n",
    "start4 = t.time()\n",
    "if c1==r1:\n",
    "    mm = np.arry((r1,c2))\n",
    "    for i in range(r1):\n",
    "        for j in range(c2):\n",
    "            for k in range(r2):\n",
    "                mm[i][j] += m3[i][k]*m4[k][j]\n",
    "    print(\"Multiplication with numpy\",mm)\n",
    "else:\n",
    "    print(\"You can't multiply given two matrix\")\n",
    "end4 = t.time()"
   ]
  },
  {
   "cell_type": "markdown",
   "metadata": {},
   "source": [
    "### Inverse of matrix"
   ]
  },
  {
   "cell_type": "code",
   "execution_count": null,
   "metadata": {},
   "outputs": [],
   "source": [
    "def invert_matrix(BC):\n",
    "    n = len(BC)\n",
    "    I=np.identity(n)\n",
    "    indices = list(range(n))\n",
    "    for fd in range(n):\n",
    "        diagScaler = 1.0 / BC[fd][fd] \n",
    "        for j in range(n):\n",
    "            BC[fd][j] *= diagScaler\n",
    "            I[fd][j] *= diagScaler\n",
    "        for i in indices[0:fd] + indices[fd+1:]: \n",
    "            ro_op = BC[i][fd]\n",
    "            for j in range(n): \n",
    "                BC[i][j] = BC[i][j] - ro_op * BC[fd][j]\n",
    "                I[i][j] = I[i][j] - ro_op * I[fd][j]\n",
    "    return print(\"inverse of matrix using loops\\n\",I)\n",
    "\n",
    "start5=t.time()\n",
    "ninv=np.linalg.inv(m3)\n",
    "end5=t.time()\n",
    "print('inverse of matrix using numpy\\n', ninv)\n",
    "\n",
    "#using loops\n",
    "start6=t.time()\n",
    "invert_matrix(m1)\n",
    "end6=t.time()"
   ]
  },
  {
   "cell_type": "markdown",
   "metadata": {},
   "source": [
    "#### Time"
   ]
  },
  {
   "cell_type": "code",
   "execution_count": null,
   "metadata": {},
   "outputs": [],
   "source": [
    "print(f\"\"\"addition => loops time={end1-start1}, numpy time={end2-start2}\n",
    "multiply => loops time={end3-start3}, numpy time={end4-start4}\n",
    "inverse  => loops time={end6-start6}, numpy time={end5-start5}\"\"\")"
   ]
  }
 ],
 "metadata": {
  "kernelspec": {
   "display_name": "Python 3.10.4 64-bit",
   "language": "python",
   "name": "python3"
  },
  "language_info": {
   "codemirror_mode": {
    "name": "ipython",
    "version": 3
   },
   "file_extension": ".py",
   "mimetype": "text/x-python",
   "name": "python",
   "nbconvert_exporter": "python",
   "pygments_lexer": "ipython3",
   "version": "3.10.4"
  },
  "orig_nbformat": 4,
  "vscode": {
   "interpreter": {
    "hash": "c0ded7d0e6c4c06fee4b04bbde871b34984a96fb0255d2c7f1b05bc601682651"
   }
  }
 },
 "nbformat": 4,
 "nbformat_minor": 2
}
