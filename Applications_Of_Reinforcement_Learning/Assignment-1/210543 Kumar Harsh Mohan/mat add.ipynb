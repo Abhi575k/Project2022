{
  "metadata": {
    "language_info": {
      "codemirror_mode": {
        "name": "python",
        "version": 3
      },
      "file_extension": ".py",
      "mimetype": "text/x-python",
      "name": "python",
      "nbconvert_exporter": "python",
      "pygments_lexer": "ipython3",
      "version": "3.8"
    },
    "kernelspec": {
      "name": "python",
      "display_name": "Pyolite",
      "language": "python"
    }
  },
  "nbformat_minor": 4,
  "nbformat": 4,
  "cells": [
    {
      "cell_type": "code",
      "source": "(m, n) = input(\"Please enter the dimensions of the first matrix, separated by a space \").split(\" \")\nm = int(m)\nn = int(n)\nprint(\"Please enter the elements of the first matrix, separating elements in a row by spaces and rows by newlines\")\nmatrix1 = []\nmatrix2 = []\nmatrix3 = []\nfor i in range(0,m):\n\ttemp = input(\"\").split(\" \")\n\tfor j in range(0, n):\n\t\ttemp[j] = int(temp[j])\n\tmatrix1.append(temp)\n\n#(o, p) = input(\"Please enter the dimensions of the second matrix, separated by a space\").split(\" \")\n#o = int(o)\n#p = int(p)\nprint(\"Please enter the elements of the second matrix, separating elements in a row by spaces and rows by newlines\")\nfor i in range(0,m):\n\ttemp = input(\"\").split(\" \")\n\tfor j in range(0, n):\n\t\ttemp[j] = int(temp[j])\n\tmatrix2.append(temp)\nfor i in range(0,m):\n\tadd = 0\n\ttemp = []\n\tfor j in range(0,n):\n\t\tadd = matrix1[i][j] + matrix2[i][j]\n\t\ttemp.append(add)\n\tmatrix3.append(temp)\nfor i in matrix3:\n\tprint(i)",
      "metadata": {},
      "execution_count": null,
      "outputs": []
    },
    {
      "cell_type": "code",
      "source": "",
      "metadata": {},
      "execution_count": null,
      "outputs": []
    }
  ]
}