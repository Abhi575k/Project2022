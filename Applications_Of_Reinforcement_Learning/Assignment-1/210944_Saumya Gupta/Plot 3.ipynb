{
 "cells": [
  {
   "cell_type": "code",
   "execution_count": null,
   "metadata": {},
   "outputs": [],
   "source": [
    "import matplotlib.pyplot as plt\n",
    "import numpy as np\n",
    "\n",
    "\n",
    "x = np.array([11,5,9,13,17,4,2,9,7,19,3,14,11])\n",
    "y = np.array([79,84,97,68,91,98,93,81,93,78,77,95,83])\n",
    "plt.scatter(x, y)\n",
    "\n",
    "x = np.array([4,4,11,3,17,8,13,9,11,2,11,6,9,16,10])\n",
    "y = np.array([95,105,93,95,111,79,96,105,114,90,89,102,81,89,93])\n",
    "plt.scatter(x, y)\n",
    "\n",
    "plt.show()"
   ]
  }
 ],
 "metadata": {
  "language_info": {
   "name": "python"
  },
  "orig_nbformat": 4
 },
 "nbformat": 4,
 "nbformat_minor": 2
}
