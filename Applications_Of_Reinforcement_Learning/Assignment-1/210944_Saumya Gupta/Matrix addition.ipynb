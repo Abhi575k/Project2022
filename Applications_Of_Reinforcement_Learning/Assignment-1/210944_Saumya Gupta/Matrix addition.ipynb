{
 "cells": [
  {
   "cell_type": "code",
   "execution_count": 8,
   "metadata": {},
   "outputs": [],
   "source": [
    "from numpy import random\n",
    "import numpy as np\n"
   ]
  },
  {
   "cell_type": "code",
   "execution_count": 9,
   "metadata": {},
   "outputs": [],
   "source": [
    "m = random.randint(100)\n",
    "n = random.randint(100)\n",
    "x = random.randint(100, size=(m,n))\n",
    "y = random.randint(100, size=(m,n))\n"
   ]
  },
  {
   "cell_type": "code",
   "execution_count": 10,
   "metadata": {},
   "outputs": [
    {
     "name": "stdout",
     "output_type": "stream",
     "text": [
      "[[143  72 135 ...  93  48  11]\n",
      " [161  99 123 ... 118 142  69]\n",
      " [139  65  64 ...  97 139 180]\n",
      " ...\n",
      " [181  97  75 ...  47 109  43]\n",
      " [108  15  93 ... 190  57 150]\n",
      " [106  43 100 ...  45  70 118]]\n"
     ]
    }
   ],
   "source": [
    "#Without using numpy\n",
    "mat_add = random.randint(1, size=(m,n))\n",
    "for i in range(m):\n",
    "   for j in range(n):\n",
    "       mat_add[i][j] = x[i][j] + y[i][j]\n",
    "print(mat_add)"
   ]
  },
  {
   "cell_type": "code",
   "execution_count": 11,
   "metadata": {},
   "outputs": [
    {
     "name": "stdout",
     "output_type": "stream",
     "text": [
      "[[143  72 135 ...  93  48  11]\n",
      " [161  99 123 ... 118 142  69]\n",
      " [139  65  64 ...  97 139 180]\n",
      " ...\n",
      " [181  97  75 ...  47 109  43]\n",
      " [108  15  93 ... 190  57 150]\n",
      " [106  43 100 ...  45  70 118]]\n"
     ]
    }
   ],
   "source": [
    "#Using numpy\n",
    "ans = np.add(x,y)\n",
    "print(ans)"
   ]
  }
 ],
 "metadata": {
  "kernelspec": {
   "display_name": "Python 3.10.5 64-bit",
   "language": "python",
   "name": "python3"
  },
  "language_info": {
   "codemirror_mode": {
    "name": "ipython",
    "version": 3
   },
   "file_extension": ".py",
   "mimetype": "text/x-python",
   "name": "python",
   "nbconvert_exporter": "python",
   "pygments_lexer": "ipython3",
   "version": "3.10.5"
  },
  "orig_nbformat": 4,
  "vscode": {
   "interpreter": {
    "hash": "027efd7095115064582efab50921964d678032cf36f1ec215c675cf4ffc5e6b9"
   }
  }
 },
 "nbformat": 4,
 "nbformat_minor": 2
}
