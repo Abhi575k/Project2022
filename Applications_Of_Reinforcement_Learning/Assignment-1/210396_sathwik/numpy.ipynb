{
 "cells": [
  {
   "cell_type": "markdown",
   "metadata": {},
   "source": [
    "### Merits of using numpy"
   ]
  },
  {
   "cell_type": "markdown",
   "metadata": {},
   "source": [
    "#### Initialising\n",
    "- importing wanted libraries.\n",
    "- initialise some matrices."
   ]
  },
  {
   "cell_type": "code",
   "execution_count": 128,
   "metadata": {},
   "outputs": [],
   "source": [
    "import numpy as np\n",
    "import time as time\n",
    "mat_1=[[1,5,9,7,5,6,8],[4,9,2,7,7,6,3],[11,2,5,14,5,6,5],[8,4,23,5,1,6,7],[9,15,4,7,13,6,9],[18,5,7,6,17,4,0],[4,6,1,5,3,8,9]]\n",
    "mat_2=np.random.randint(10, size=(7,7))\n",
    "array_1=np.array(mat_1)\n",
    "add=np.zeros((7,7))\n",
    "multiply=np.zeros((7,7))"
   ]
  },
  {
   "cell_type": "markdown",
   "metadata": {},
   "source": [
    "#### Creating functions\n",
    "- addition and multiplication using simple element by element loop.\n",
    "- inverse using row operations according to jordan elimination method"
   ]
  },
  {
   "cell_type": "code",
   "execution_count": 129,
   "metadata": {},
   "outputs": [],
   "source": [
    "def Matrixadd(A,B):\n",
    "    for i in range(len(A)):\n",
    "        for j in range(len(A)):\n",
    "            add[i][j] = A[i][j] + B[i][j]\n",
    "    return print(add)\n",
    "\n",
    "def Matrixmultiply(A, B):\n",
    "    for i in range(len(A)):\n",
    "        for j in range(len(A)):\n",
    "            for k in range(len(B)):\n",
    "                multiply[i][j] = multiply[i][j] + A[i][k] * B[k][j]\n",
    "    return print(multiply)\n",
    "\n",
    "def invert_matrix(A):\n",
    "    n = len(A)\n",
    "    I=np.identity(n) #creates a identity matrix of order n\n",
    "    index = list(range(n))\n",
    "    for fd in range(n):\n",
    "        diagScaler = 1.0 / A[fd][fd] \n",
    "        for j in range(n):\n",
    "            A[fd][j] *= diagScaler\n",
    "            I[fd][j] *= diagScaler\n",
    "        for i in index[0:fd] + index[fd+1:]: \n",
    "            ro_op = A[i][fd]\n",
    "            for j in range(n): \n",
    "                A[i][j] = A[i][j] - ro_op * A[fd][j]\n",
    "                I[i][j] = I[i][j] - ro_op * I[fd][j]\n",
    "    return print(I)"
   ]
  },
  {
   "cell_type": "markdown",
   "metadata": {},
   "source": [
    "#### Addition"
   ]
  },
  {
   "cell_type": "code",
   "execution_count": 130,
   "metadata": {},
   "outputs": [
    {
     "name": "stdout",
     "output_type": "stream",
     "text": [
      "[[ 7.  5. 14.  7.  8. 12. 15.]\n",
      " [10. 12.  2. 11. 11. 14.  5.]\n",
      " [19. 11.  7. 21.  7. 15. 14.]\n",
      " [11. 12. 26. 10.  1. 14. 11.]\n",
      " [10. 17. 10. 11. 16.  7. 16.]\n",
      " [26.  6. 13.  8. 22.  6.  7.]\n",
      " [13. 11.  1.  7.  9. 10. 16.]]\n",
      "time taken for function  0.0014967918395996094\n",
      "[[ 7  5 14  7  8 12 15]\n",
      " [10 12  2 11 11 14  5]\n",
      " [19 11  7 21  7 15 14]\n",
      " [11 12 26 10  1 14 11]\n",
      " [10 17 10 11 16  7 16]\n",
      " [26  6 13  8 22  6  7]\n",
      " [13 11  1  7  9 10 16]]\n",
      "time taken for library  0.0017940998077392578\n"
     ]
    }
   ],
   "source": [
    "start=time.time()\n",
    "Matrixadd(mat_1, mat_2)\n",
    "end=time.time()\n",
    "print(\"time taken for function \", end-start)\n",
    "\n",
    "start=time.time()\n",
    "nadd=np.add(mat_1,mat_2)\n",
    "print(nadd)\n",
    "end=time.time()\n",
    "print(\"time taken for library \", end-start)\n"
   ]
  },
  {
   "cell_type": "markdown",
   "metadata": {},
   "source": [
    "#### Multiplication"
   ]
  },
  {
   "cell_type": "code",
   "execution_count": 131,
   "metadata": {},
   "outputs": [
    {
     "name": "stdout",
     "output_type": "stream",
     "text": [
      "[[254. 208. 110. 166. 134. 216. 259.]\n",
      " [197. 136. 123. 131. 121. 195. 204.]\n",
      " [258. 204. 173. 155. 126. 266. 294.]\n",
      " [383. 302. 143. 232. 161. 354. 389.]\n",
      " [339. 214. 188. 205. 218. 309. 353.]\n",
      " [261. 164. 248. 175. 159. 284. 370.]\n",
      " [231. 126. 103. 102. 141. 158. 209.]]\n",
      "time taken for function  0.0020241737365722656\n",
      "[[254 208 110 166 134 216 259]\n",
      " [197 136 123 131 121 195 204]\n",
      " [258 204 173 155 126 266 294]\n",
      " [383 302 143 232 161 354 389]\n",
      " [339 214 188 205 218 309 353]\n",
      " [261 164 248 175 159 284 370]\n",
      " [231 126 103 102 141 158 209]]\n",
      "time taken for library 0.0009770393371582031\n"
     ]
    }
   ],
   "source": [
    "start=time.time()\n",
    "Matrixmultiply(mat_1,mat_2)\n",
    "end=time.time()\n",
    "print(\"time taken for function \", end-start)\n",
    "\n",
    "start=time.time()\n",
    "nmultiply=np.matmul(mat_1,mat_2)\n",
    "print(nmultiply)\n",
    "end=time.time()\n",
    "print(\"time taken for library\", end-start)"
   ]
  },
  {
   "cell_type": "markdown",
   "metadata": {},
   "source": [
    "#### Inversion"
   ]
  },
  {
   "cell_type": "code",
   "execution_count": 132,
   "metadata": {},
   "outputs": [
    {
     "name": "stdout",
     "output_type": "stream",
     "text": [
      "[[-0.12330186 -0.04568525  0.03569765  0.03395273  0.0338962   0.00877247\n",
      "   0.04469416]\n",
      " [-0.10111693  0.08394107 -0.00404459  0.03897706  0.07572191 -0.05643968\n",
      "  -0.04188905]\n",
      " [ 0.03069085  0.01110206 -0.01592277  0.03638299 -0.00886035  0.00305681\n",
      "  -0.04157299]\n",
      " [ 0.03186163  0.02728869  0.09092117 -0.02054254  0.01557226 -0.04260348\n",
      "  -0.08752416]\n",
      " [ 0.13677146 -0.02888301 -0.04347903 -0.05715412 -0.01976312  0.06591297\n",
      "  -0.02357562]\n",
      " [-0.00152562  0.16304843 -0.0793147   0.00853996 -0.17104479  0.05949918\n",
      "   0.15547294]\n",
      " [ 0.05686673 -0.18735437  0.02308318 -0.02224455  0.0854145  -0.01780261\n",
      "   0.04207719]] \n",
      "\n",
      "[[-0.12330186 -0.04568525  0.03569765  0.03395273  0.0338962   0.00877247\n",
      "   0.04469416]\n",
      " [-0.10111693  0.08394107 -0.00404459  0.03897706  0.07572191 -0.05643968\n",
      "  -0.04188905]\n",
      " [ 0.03069085  0.01110206 -0.01592277  0.03638299 -0.00886035  0.00305681\n",
      "  -0.04157299]\n",
      " [ 0.03186163  0.02728869  0.09092117 -0.02054254  0.01557226 -0.04260348\n",
      "  -0.08752416]\n",
      " [ 0.13677146 -0.02888301 -0.04347903 -0.05715412 -0.01976312  0.06591297\n",
      "  -0.02357562]\n",
      " [-0.00152562  0.16304843 -0.0793147   0.00853996 -0.17104479  0.05949918\n",
      "   0.15547294]\n",
      " [ 0.05686673 -0.18735437  0.02308318 -0.02224455  0.0854145  -0.01780261\n",
      "   0.04207719]]\n",
      "time taken for function  0.0010302066802978516\n",
      "time taken for library  0.0004870891571044922\n"
     ]
    }
   ],
   "source": [
    "start=time.time()\n",
    "ninv=np.linalg.inv(array_1)\n",
    "end=time.time()\n",
    "print(ninv,\"\\n\")\n",
    "\n",
    "\n",
    "start1=time.time()\n",
    "invert_matrix(mat_1)\n",
    "end1=time.time()\n",
    "print(\"time taken for function \", end1-start1)\n",
    "print(\"time taken for library \", end-start)"
   ]
  }
 ],
 "metadata": {
  "kernelspec": {
   "display_name": "Python 3.10.4 64-bit",
   "language": "python",
   "name": "python3"
  },
  "language_info": {
   "codemirror_mode": {
    "name": "ipython",
    "version": 3
   },
   "file_extension": ".py",
   "mimetype": "text/x-python",
   "name": "python",
   "nbconvert_exporter": "python",
   "pygments_lexer": "ipython3",
   "version": "3.10.4"
  },
  "orig_nbformat": 4,
  "vscode": {
   "interpreter": {
    "hash": "dc3c3c4bc843b2d8c36cd6316d0d58a3adde2608e96e397ec27e7716ad40c3a8"
   }
  }
 },
 "nbformat": 4,
 "nbformat_minor": 2
}
