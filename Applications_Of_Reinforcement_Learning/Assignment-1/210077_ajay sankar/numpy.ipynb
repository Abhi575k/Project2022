{
 "cells": [
  {
   "cell_type": "code",
   "execution_count": 86,
   "metadata": {},
   "outputs": [],
   "source": [
    "import time as T\n",
    "import numpy as np\n",
    "V =[[1,5,9,7,5],[4,9,2,7,7],[11,2,5,14,5],[8,4,23,5,1],[9,15,4,7,13]]\n",
    "R =np.random.randint(10, size=(5,5))\n",
    "K =np.array(V)\n",
    "M =np.array(R)\n",
    "add=np.zeros((5,5))\n",
    "multiply=np.zeros((5,5))"
   ]
  },
  {
   "cell_type": "code",
   "execution_count": 87,
   "metadata": {},
   "outputs": [],
   "source": [
    "A = V \n",
    "B = R\n",
    "\n",
    "\n",
    "\n",
    "\n",
    "    \n",
    "\n",
    "def invert_matrix(A):\n",
    "    n = len(A)\n",
    "    I=np.identity(n) #creates a identity matrix of order n\n",
    "    index = list(range(n))\n",
    "    for fd in range(n):\n",
    "        diagScaler = 1.0 / A[fd][fd] \n",
    "        for j in range(n):\n",
    "            A[fd][j] *= diagScaler\n",
    "            I[fd][j] *= diagScaler\n",
    "        for i in index[0:fd] + index[fd+1:]: \n",
    "            ro_op = A[i][fd]\n",
    "            for j in range(n): \n",
    "                A[i][j] = A[i][j] - ro_op * A[fd][j]\n",
    "                I[i][j] = I[i][j] - ro_op * I[fd][j]\n",
    "    return print(\"inverse using loops\\n\",I)\n"
   ]
  },
  {
   "cell_type": "code",
   "execution_count": 88,
   "metadata": {},
   "outputs": [
    {
     "name": "stdout",
     "output_type": "stream",
     "text": [
      "addition using loops\n",
      " [[ 9.  8. 14.  7.  5.]\n",
      " [ 8.  9.  2. 10.  8.]\n",
      " [16. 11.  9. 14.  8.]\n",
      " [ 9.  6. 28.  7.  6.]\n",
      " [15. 22. 11. 11. 13.]]\n",
      "addition => loops time=-1522.1828994750977\n"
     ]
    }
   ],
   "source": [
    "\n",
    "#using loops\n",
    "start1=T.time()\n",
    "for i in range(len(A)):        \n",
    "    for j in range(len(A)):\n",
    "        add[i][j] = A[i][j] + B[i][j]\n",
    "print(\"addition using loops\\n\"\"\",add)\n",
    "print(f\"\"\"addition => loops time={end1-start1}\"\"\")\n",
    "\n",
    "\n",
    "\n"
   ]
  },
  {
   "cell_type": "code",
   "execution_count": 89,
   "metadata": {},
   "outputs": [
    {
     "name": "stdout",
     "output_type": "stream",
     "text": [
      "addition using numpy\n",
      " [[ 9  8 14  7  5]\n",
      " [ 8  9  2 10  8]\n",
      " [16 11  9 14  8]\n",
      " [ 9  6 28  7  6]\n",
      " [15 22 11 11 13]]\n",
      " numpy time=0.00025916099548339844\n"
     ]
    }
   ],
   "source": [
    "\n",
    "#using numpy\n",
    "start2=T.time()\n",
    "nadd=np.add(V,R)\n",
    "end2=T.time()\n",
    "print(\"addition using numpy\\n\", nadd)\n",
    "print(f\"\"\" numpy time={end2-start2}\"\"\")\n",
    "\n"
   ]
  },
  {
   "cell_type": "code",
   "execution_count": 90,
   "metadata": {},
   "outputs": [
    {
     "name": "stdout",
     "output_type": "stream",
     "text": [
      "multiplication using loops\n",
      " [[110. 133. 111.  49.  67.]\n",
      " [127.  93. 112.  69.  50.]\n",
      " [165. 141. 180.  54.  87.]\n",
      " [206. 248. 164.  26.  98.]\n",
      " [237. 168. 187. 111.  62.]]\n",
      "multiply => loops time=0.0028350353240966797\n"
     ]
    }
   ],
   "source": [
    "start3=T.time()\n",
    "for i in range(len(A)):\n",
    "    for j in range(len(A)):\n",
    "        for k in range(len(B)):\n",
    "            multiply[i][j] += A[i][k] * B[k][j]\n",
    "print(\"multiplication using loops\\n\", multiply)\n",
    "\n",
    "end3=T.time()\n",
    "print(f\"\"\"multiply => loops time={end3-start3}\"\"\")\n"
   ]
  },
  {
   "cell_type": "code",
   "execution_count": 91,
   "metadata": {},
   "outputs": [
    {
     "name": "stdout",
     "output_type": "stream",
     "text": [
      "multiplication using numpy\n",
      " [[110 133 111  49  67]\n",
      " [127  93 112  69  50]\n",
      " [165 141 180  54  87]\n",
      " [206 248 164  26  98]\n",
      " [237 168 187 111  62]]\n",
      " numpy time=0.00020384788513183594\n"
     ]
    }
   ],
   "source": [
    "\n",
    "#using numpy\n",
    "start4=T.time()\n",
    "nmultiply=np.matmul(K,M)\n",
    "end4=T.time()\n",
    "print(\"multiplication using numpy\\n\",nmultiply)\n",
    "print(f\"\"\" numpy time={end4-start4}\"\"\")"
   ]
  },
  {
   "cell_type": "code",
   "execution_count": 92,
   "metadata": {},
   "outputs": [
    {
     "name": "stdout",
     "output_type": "stream",
     "text": [
      "inverse of matrix using numpy\n",
      " [[-0.13693912 -0.03567305  0.04755102  0.03753204  0.05070152]\n",
      " [-0.16979434  0.4037532  -0.07850811  0.0705438  -0.12733108]\n",
      " [ 0.06232511 -0.07479013 -0.01221063  0.02493004  0.01907911]\n",
      " [ 0.01561552  0.18126137  0.03430327 -0.00913841 -0.11609886]\n",
      " [ 0.26313524 -0.51576228  0.04295247 -0.11013052  0.24538677]]\n",
      "numpy time=0.0015230178833007812\n"
     ]
    }
   ],
   "source": [
    "\n",
    "#using numpy\n",
    "start5=T.time()\n",
    "ninv=np.linalg.inv(K)\n",
    "end5=T.time()\n",
    "print('inverse of matrix using numpy\\n', ninv)\n",
    "print(f\"\"\"numpy time={end5-start5}\"\"\")"
   ]
  },
  {
   "cell_type": "code",
   "execution_count": 93,
   "metadata": {},
   "outputs": [
    {
     "name": "stdout",
     "output_type": "stream",
     "text": [
      "inverse using loops\n",
      " [[-0.13693912 -0.03567305  0.04755102  0.03753204  0.05070152]\n",
      " [-0.16979434  0.4037532  -0.07850811  0.0705438  -0.12733108]\n",
      " [ 0.06232511 -0.07479013 -0.01221063  0.02493004  0.01907911]\n",
      " [ 0.01561552  0.18126137  0.03430327 -0.00913841 -0.11609886]\n",
      " [ 0.26313524 -0.51576228  0.04295247 -0.11013052  0.24538677]]\n",
      "inverse  => loops time=0.00717616081237793\n"
     ]
    }
   ],
   "source": [
    "\n",
    "#using loops\n",
    "start6=T.time()\n",
    "invert_matrix(V)\n",
    "end6=T.time()\n",
    "\n",
    "print(f\"\"\"inverse  => loops time={end6-start6}\"\"\")"
   ]
  }
 ],
 "metadata": {
  "kernelspec": {
   "display_name": "Python 3.10.4 64-bit",
   "language": "python",
   "name": "python3"
  },
  "language_info": {
   "codemirror_mode": {
    "name": "ipython",
    "version": 3
   },
   "file_extension": ".py",
   "mimetype": "text/x-python",
   "name": "python",
   "nbconvert_exporter": "python",
   "pygments_lexer": "ipython3",
   "version": "3.10.4"
  },
  "orig_nbformat": 4,
  "vscode": {
   "interpreter": {
    "hash": "916dbcbb3f70747c44a77c7bcd40155683ae19c65e1c03b4aa3499c5328201f1"
   }
  }
 },
 "nbformat": 4,
 "nbformat_minor": 2
}
